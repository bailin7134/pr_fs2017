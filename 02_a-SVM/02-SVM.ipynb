{
 "cells": [
  {
   "cell_type": "code",
   "execution_count": 2,
   "metadata": {
    "collapsed": false
   },
   "outputs": [],
   "source": [
    "import numpy as np\n",
    "\n",
    "trainDataSet = np.genfromtxt('train.csv', delimiter=\",\")\n",
    "testDataSet = np.genfromtxt('test.csv', delimiter=\",\")"
   ]
  },
  {
   "cell_type": "code",
   "execution_count": 3,
   "metadata": {
    "collapsed": false
   },
   "outputs": [
    {
     "name": "stdout",
     "output_type": "stream",
     "text": [
      "train data size: (26999, 785)\n",
      "test data size: (15001, 785)\n"
     ]
    }
   ],
   "source": [
    "print \"train data size:\", trainDataSet.shape\n",
    "print \"test data size:\", testDataSet.shape"
   ]
  },
  {
   "cell_type": "code",
   "execution_count": 4,
   "metadata": {
    "collapsed": false
   },
   "outputs": [
    {
     "name": "stdout",
     "output_type": "stream",
     "text": [
      "26999 785\n",
      "15001 785\n"
     ]
    }
   ],
   "source": [
    "trainDataRow, trainDataCol = trainDataSet.shape\n",
    "testDataRow, testDataCol = testDataSet.shape\n",
    "print trainDataRow, trainDataCol\n",
    "print testDataRow, testDataCol"
   ]
  },
  {
   "cell_type": "code",
   "execution_count": 39,
   "metadata": {
    "collapsed": false
   },
   "outputs": [
    {
     "data": {
      "image/png": "[encoded data removed]",
      "text/plain": [
       "<matplotlib.figure.Figure at 0x7f48935ba2d0>"
      ]
     },
     "metadata": {},
     "output_type": "display_data"
    }
   ],
   "source": [
    "import matplotlib.pyplot as plt\n",
    "\n",
    "# plot some samples\n",
    "cnt = 0\n",
    "for i in range(1,4):\n",
    "    for j in range(1,6):\n",
    "        plt.subplot(3,5,cnt+1)\n",
    "        plt.imshow(trainDataSet[cnt,1:trainDataCol].reshape((28,28)), cmap=plt.cm.Greys_r)\n",
    "        plt.axis('off')\n",
    "        cnt = cnt+1\n",
    "plt.show()"
   ]
  },
  {
   "cell_type": "code",
   "execution_count": 67,
   "metadata": {
    "collapsed": false
   },
   "outputs": [],
   "source": [
    "from sklearn.pipeline import Pipeline\n",
    "from sklearn.preprocessing import scale\n",
    "from sklearn.cross_validation import train_test_split\n",
    "from sklearn.svm import SVC\n",
    "from sklearn.grid_search import GridSearchCV\n",
    "from sklearn.metrics import classification_report\n",
    "from sklearn.metrics import accuracy_score"
   ]
  },
  {
   "cell_type": "code",
   "execution_count": 16,
   "metadata": {
    "collapsed": true
   },
   "outputs": [],
   "source": [
    "TRAIN_DATA_NUM = 1000 #trainDataRow\n",
    "TEST_DATA_NUM = 10\n",
    "X_train = trainDataSet[0:TRAIN_DATA_NUM,1:trainDataCol]\n",
    "y_train = trainDataSet[0:TRAIN_DATA_NUM,0]\n",
    "X_test = testDataSet[0:TEST_DATA_NUM,1:testDataCol]\n",
    "y_test = testDataSet[0:TEST_DATA_NUM,0]"
   ]
  },
  {
   "cell_type": "code",
   "execution_count": 17,
   "metadata": {
    "collapsed": false
   },
   "outputs": [
    {
     "name": "stdout",
     "output_type": "stream",
     "text": [
      "(1000, 784)\n",
      "(1000,)\n",
      "(10, 784)\n",
      "(10,)\n"
     ]
    }
   ],
   "source": [
    "print X_train.shape\n",
    "print y_train.shape\n",
    "print X_test.shape\n",
    "print y_test.shape"
   ]
  },
  {
   "cell_type": "code",
   "execution_count": 73,
   "metadata": {
    "collapsed": false
   },
   "outputs": [
    {
     "name": "stdout",
     "output_type": "stream",
     "text": [
      "             precision    recall  f1-score   support\n",
      "\n",
      "        2.0       1.00      1.00      1.00         2\n",
      "        4.0       1.00      1.00      1.00         1\n",
      "        5.0       1.00      1.00      1.00         2\n",
      "        6.0       1.00      1.00      1.00         1\n",
      "        7.0       1.00      1.00      1.00         1\n",
      "        8.0       1.00      1.00      1.00         1\n",
      "        9.0       1.00      1.00      1.00         2\n",
      "\n",
      "avg / total       1.00      1.00      1.00        10\n",
      "\n"
     ]
    }
   ],
   "source": [
    "svm = SVC(gamma=0.001, C=100.0, kernel='linear', cache_size=8000, probability=False)\n",
    "svm.fit(X_train, y_train)\n",
    "# score = svm.score(X_test, y_test)\n",
    "# predict output\n",
    "y_test_predicted = svm.predict(X_test)\n",
    "'''\n",
    "print predicted\n",
    "\n",
    "plt.imshow(X_test[4,:].reshape(28,28), cmap=plt.cm.gray_r, interpolation=\"nearest\")\n",
    "plt.show()\n",
    "accuracy_score(y_test, y_test_predicted)\n",
    "'''\n",
    "print classification_report(y_test, y_test_predicted)"
   ]
  },
  {
   "cell_type": "code",
   "execution_count": 78,
   "metadata": {
    "collapsed": false
   },
   "outputs": [
    {
     "name": "stdout",
     "output_type": "stream",
     "text": [
      "[ 2.]\n"
     ]
    },
    {
     "data": {
      "image/png": "[encoded data removed]",
      "text/plain": [
       "<matplotlib.figure.Figure at 0x7f4893c0ca10>"
      ]
     },
     "metadata": {},
     "output_type": "display_data"
    }
   ],
   "source": [
    "svm = SVC(kernel='rbf', probability=True)\n",
    "svm.fit(X_train, y_train)\n",
    "# score = svm.score(X_test, y_test)\n",
    "# predict output\n",
    "predicted = svm.predict(X_test[0:1,:])\n",
    "print predicted\n",
    "\n",
    "plt.imshow(X_test[0,:].reshape(28,28), cmap=plt.cm.gray_r, interpolation=\"nearest\")\n",
    "plt.show()"
   ]
  },
  {
   "cell_type": "code",
   "execution_count": null,
   "metadata": {
    "collapsed": false
   },
   "outputs": [],
   "source": [
    "#svm.decision_function(X_train)\n",
    "svm.predict(X_train)"
   ]
  },
  {
   "cell_type": "code",
   "execution_count": 97,
   "metadata": {
    "collapsed": true
   },
   "outputs": [],
   "source": [
    "# test test test test test test test test test test test \n",
    "import cPickle\n",
    "import gzip\n",
    "\n",
    "# Third-party libraries\n",
    "import numpy as np\n",
    "\n",
    "f = gzip.open('./mnist.pkl.gz', 'rb')\n",
    "training_data, validation_data, test_data = cPickle.load(f)\n",
    "f.close()"
   ]
  },
  {
   "cell_type": "code",
   "execution_count": 102,
   "metadata": {
    "collapsed": false
   },
   "outputs": [
    {
     "name": "stdout",
     "output_type": "stream",
     "text": [
      "(50000, 784)\n",
      "(50000,)\n"
     ]
    }
   ],
   "source": [
    "print training_data[0].shape\n",
    "print training_data[1].shape"
   ]
  },
  {
   "cell_type": "code",
   "execution_count": 104,
   "metadata": {
    "collapsed": false
   },
   "outputs": [
    {
     "data": {
      "image/png": "[encoded data removed]",
      "text/plain": [
       "<matplotlib.figure.Figure at 0x7f6505a4eb90>"
      ]
     },
     "metadata": {},
     "output_type": "display_data"
    }
   ],
   "source": [
    "train_data = training_data[0]\n",
    "\n",
    "cnt = 1\n",
    "for i in range(1,4):\n",
    "    for j in range(1,6):\n",
    "        plt.subplot(3,5,cnt)\n",
    "        plt.imshow(train_data[cnt,:].reshape((28,28)), cmap=cm.Greys_r)\n",
    "        plt.axis('off')\n",
    "        cnt = cnt+1\n",
    "plt.show()"
   ]
  },
  {
   "cell_type": "code",
   "execution_count": null,
   "metadata": {
    "collapsed": true
   },
   "outputs": [],
   "source": []
  }
 ],
 "metadata": {
  "kernelspec": {
   "display_name": "Python 2",
   "language": "python",
   "name": "python2"
  },
  "language_info": {
   "codemirror_mode": {
    "name": "ipython",
    "version": 2
   },
   "file_extension": ".py",
   "mimetype": "text/x-python",
   "name": "python",
   "nbconvert_exporter": "python",
   "pygments_lexer": "ipython2",
   "version": "2.7.13"
  }
 },
 "nbformat": 4,
 "nbformat_minor": 2
}
